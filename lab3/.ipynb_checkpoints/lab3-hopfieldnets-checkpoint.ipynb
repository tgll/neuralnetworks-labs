{
 "cells": [
  {
   "cell_type": "markdown",
   "metadata": {},
   "source": [
    "# <p><font color=goldenrod>&#9658; Artificial Neural Networks and Deep Architectures (DD2437) &#9664;</font></p>\n",
    "<div class=\"alert alert-warning\">\n",
    "\n",
    "Syllabus: https://www.kth.se/student/kurser/kurs/kursplan/DD2437-20191.pdf?lang=en\n",
    "\n",
    "Course page: https://www.kth.se/social/course/DD2437/\n",
    "\n",
    "Teacher page: http://www.csc.kth.se/~paherman/index.htm & https://www.kth.se/profile/paherman\n",
    "\n",
    "\n",
    "\n",
    "# Lab assignment 3\n",
    "## Hopfield networks\n",
    "\n",
    "</div>"
   ]
  },
  {
   "cell_type": "markdown",
   "metadata": {},
   "source": [
    "***\n",
    "# <p> &#127819; Instructions </p> \n",
    "#### Aim and objectives\n",
    "After completion of the lab assignment, you should be able to\n",
    "- explain the principles underlying the operation and functionality of autoassociative networks\n",
    "- train the Hopfield network\n",
    "- explain the attractor dynamics of Hopfield networks the concept of energy function\n",
    "- demonstrate how autoassociative networks can do pattern completion and noise reduction\n",
    "- investgate the question of storage capacity and explain features that help increase it in associative memories\n",
    "\n",
    "#### Background\n",
    "see link https://github.com/tgll/\n",
    "(Lab instructions in the same folder)\n",
    "\n",
    "(Hebbian learning, Hopfield network recall)\n",
    "\n",
    "<p><font color=white>emojis https://www.w3schools.com/charsets/ref_emoji.asp</font></p>"
   ]
  },
  {
   "cell_type": "markdown",
   "metadata": {},
   "source": [
    "***\n",
    "# <p> &#127819; Tasks and questions </p>"
   ]
  },
  {
   "cell_type": "code",
   "execution_count": 1,
   "metadata": {},
   "outputs": [],
   "source": [
    "# Importing the librairies"
   ]
  },
  {
   "cell_type": "markdown",
   "metadata": {},
   "source": [
    "## <p> &#127821; 1. Convergence and attractors </p>"
   ]
  },
  {
   "cell_type": "code",
   "execution_count": null,
   "metadata": {},
   "outputs": [],
   "source": []
  },
  {
   "cell_type": "markdown",
   "metadata": {},
   "source": [
    "## <p> &#127821; 2. Sequential Update </p>"
   ]
  },
  {
   "cell_type": "code",
   "execution_count": null,
   "metadata": {},
   "outputs": [],
   "source": []
  },
  {
   "cell_type": "markdown",
   "metadata": {},
   "source": [
    "## <p> &#127821; 3. Energy </p>"
   ]
  },
  {
   "cell_type": "code",
   "execution_count": null,
   "metadata": {},
   "outputs": [],
   "source": []
  },
  {
   "cell_type": "markdown",
   "metadata": {},
   "source": [
    "## <p> &#127821; 4. Distortion Resistance </p>"
   ]
  },
  {
   "cell_type": "code",
   "execution_count": null,
   "metadata": {},
   "outputs": [],
   "source": []
  },
  {
   "cell_type": "markdown",
   "metadata": {},
   "source": [
    "## <p> &#127821; 6. Sparse Patterns </p>"
   ]
  },
  {
   "cell_type": "code",
   "execution_count": null,
   "metadata": {},
   "outputs": [],
   "source": []
  },
  {
   "cell_type": "markdown",
   "metadata": {},
   "source": [
    "***\n",
    "# <p> &#127819; Conclusions </p>"
   ]
  },
  {
   "cell_type": "code",
   "execution_count": null,
   "metadata": {},
   "outputs": [],
   "source": []
  }
 ],
 "metadata": {
  "kernelspec": {
   "display_name": "Python 3",
   "language": "python",
   "name": "python3"
  },
  "language_info": {
   "codemirror_mode": {
    "name": "ipython",
    "version": 3
   },
   "file_extension": ".py",
   "mimetype": "text/x-python",
   "name": "python",
   "nbconvert_exporter": "python",
   "pygments_lexer": "ipython3",
   "version": "3.7.1"
  }
 },
 "nbformat": 4,
 "nbformat_minor": 2
}
