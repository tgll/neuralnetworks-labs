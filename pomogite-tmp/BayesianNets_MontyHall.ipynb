{
 "cells": [
  {
   "cell_type": "markdown",
   "metadata": {},
   "source": [
    "# Bayesian Nets - Monty Hall Problem\n",
    "\n",
    "Problem statement:\n",
    "Suppose you're on a game show and you're given the choice of three doors: behind one door is a car, behind the others, goats.\n",
    "You pick a door, (door n1) and the host, who knows what's behind the doors, opens another door (door n3), which has a goat.\n",
    "Hen then says to you \"do you want to change door ?\" (to pick door n2). \n",
    "Is it to your advantafe to switch your choice ?\n",
    "\n",
    "\n",
    "How to model this problem using DAG ?\n",
    "\n",
    "Create a DAG with following nodes:\n",
    "- guest door (choosen by guest)\n",
    "- prize: Door containing the price\n",
    "- Monty: Door chosen by Monty"
   ]
  },
  {
   "cell_type": "code",
   "execution_count": 1,
   "metadata": {},
   "outputs": [],
   "source": [
    "import math\n",
    "from pomegranate import *"
   ]
  },
  {
   "cell_type": "code",
   "execution_count": 30,
   "metadata": {},
   "outputs": [
    {
     "ename": "KeyError",
     "evalue": "{\n    \"class\" :\"Distribution\",\n    \"dtype\" :\"str\",\n    \"name\" :\"DiscreteDistribution\",\n    \"parameters\" :[\n        {\n            \"A\" :0.3333333333333333,\n            \"B\" :0.3333333333333333,\n            \"C\" :0.3333333333333333\n        }\n    ],\n    \"frozen\" :false\n}",
     "output_type": "error",
     "traceback": [
      "\u001b[1;31m---------------------------------------------------------------------------\u001b[0m",
      "\u001b[1;31mKeyError\u001b[0m                                  Traceback (most recent call last)",
      "\u001b[1;32m<ipython-input-30-44bb8313d381>\u001b[0m in \u001b[0;36m<module>\u001b[1;34m\u001b[0m\n\u001b[0;32m     43\u001b[0m \u001b[0mnetwork\u001b[0m\u001b[1;33m.\u001b[0m\u001b[0madd_edge\u001b[0m\u001b[1;33m(\u001b[0m\u001b[0ms1\u001b[0m\u001b[1;33m,\u001b[0m \u001b[0ms3\u001b[0m\u001b[1;33m)\u001b[0m\u001b[1;33m\u001b[0m\u001b[1;33m\u001b[0m\u001b[0m\n\u001b[0;32m     44\u001b[0m \u001b[0mnetwork\u001b[0m\u001b[1;33m.\u001b[0m\u001b[0madd_edge\u001b[0m\u001b[1;33m(\u001b[0m\u001b[0ms2\u001b[0m\u001b[1;33m,\u001b[0m \u001b[0ms3\u001b[0m\u001b[1;33m)\u001b[0m\u001b[1;33m\u001b[0m\u001b[1;33m\u001b[0m\u001b[0m\n\u001b[1;32m---> 45\u001b[1;33m \u001b[0mnetwork\u001b[0m\u001b[1;33m.\u001b[0m\u001b[0mbake\u001b[0m\u001b[1;33m(\u001b[0m\u001b[1;33m)\u001b[0m\u001b[1;33m\u001b[0m\u001b[1;33m\u001b[0m\u001b[0m\n\u001b[0m\u001b[0;32m     46\u001b[0m \u001b[1;33m\u001b[0m\u001b[0m\n\u001b[0;32m     47\u001b[0m \u001b[0mbeliefs\u001b[0m \u001b[1;33m=\u001b[0m \u001b[0mnetwork\u001b[0m\u001b[1;33m.\u001b[0m\u001b[0mpredict_proba\u001b[0m\u001b[1;33m(\u001b[0m\u001b[1;33m{\u001b[0m \u001b[1;34m'guest'\u001b[0m \u001b[1;33m:\u001b[0m \u001b[1;34m'A'\u001b[0m \u001b[1;33m}\u001b[0m\u001b[1;33m)\u001b[0m\u001b[1;33m\u001b[0m\u001b[1;33m\u001b[0m\u001b[0m\n",
      "\u001b[1;32mC:\\ProgramData\\Anaconda3\\lib\\site-packages\\pomegranate\\BayesianNetwork.pyx\u001b[0m in \u001b[0;36mpomegranate.BayesianNetwork.BayesianNetwork.bake\u001b[1;34m()\u001b[0m\n",
      "\u001b[1;31mKeyError\u001b[0m: {\n    \"class\" :\"Distribution\",\n    \"dtype\" :\"str\",\n    \"name\" :\"DiscreteDistribution\",\n    \"parameters\" :[\n        {\n            \"A\" :0.3333333333333333,\n            \"B\" :0.3333333333333333,\n            \"C\" :0.3333333333333333\n        }\n    ],\n    \"frozen\" :false\n}"
     ]
    }
   ],
   "source": [
    "#the guests initial door selection is completely random\n",
    "guest = DiscreteDistribution({'A': 1./3, 'B': 1./3, 'C': 1./3})\n",
    "\n",
    "# the door prize behind is also completely random\n",
    "prize = DiscreteDistribution({'A': 1./3, 'B': 1./3, 'C': 1./3})\n",
    "\n",
    "# Monty is dependant on both the guest and the prize\n",
    "monty = guest = ConditionalProbabilityTable(\n",
    "    [['A', 'A', 'A', 0.0],\n",
    "     ['A', 'A', 'B', 0.5],\n",
    "     ['A', 'A', 'C', 0.5],\n",
    "     ['A', 'B', 'A', 0.0],\n",
    "     ['A', 'B', 'B', 0.0],\n",
    "     ['A', 'B', 'C', 1.0],\n",
    "     ['A', 'C', 'A', 0.0],\n",
    "     ['A', 'C', 'B', 1.0],\n",
    "     ['A', 'C', 'C', 0.0],\n",
    "     ['B', 'A', 'A', 0.0],\n",
    "     ['B', 'A', 'B', 0.0],\n",
    "     ['B', 'A', 'C', 1.0],\n",
    "     ['B', 'B', 'A', 0.5],\n",
    "     ['B', 'B', 'B', 0.0],\n",
    "     ['B', 'B', 'C', 0.5],\n",
    "     ['B', 'C', 'A', 1.0],\n",
    "     ['B', 'C', 'B', 0.0],\n",
    "     ['B', 'C', 'C', 0.0],\n",
    "     ['C', 'A', 'A', 0.0],\n",
    "     ['C', 'A', 'B', 1.0],\n",
    "     ['C', 'A', 'C', 0.0],\n",
    "     ['C', 'B', 'A', 1.0],\n",
    "     ['C', 'B', 'B', 0.0],\n",
    "     ['C', 'B', 'C', 0.0],\n",
    "     ['C', 'C', 'A', 0.5],\n",
    "     ['C', 'C', 'B', 0.5],\n",
    "     ['C', 'C', 'C', 0.0]], [guest, prize])\n",
    "\n",
    "s1 = State( guest, name=\"guest\" )\n",
    "s2 = State( prize, name=\"prize\" )\n",
    "s3 = State( monty, name=\"monty\" )\n",
    "\n",
    "network = BayesianNetwork(\"Monty Hall Problem\")\n",
    "network.add_states(s1, s2, s3)\n",
    "network.add_edge(s1, s3)\n",
    "network.add_edge(s2, s3)\n",
    "network.bake()\n",
    "\n",
    "beliefs = network.predict_proba({ 'guest' : 'A' })\n",
    "beliefs = map(str, beliefs)\n",
    "print(\"\\n\".join([\"{}\\t{}\".format( state.name, belief ) for state, belief in zip( network.states, beliefs )]))\n",
    "\n",
    "beliefs = network.predict_proba({'guest' : 'A', 'monty' : 'B'})\n",
    "print(\"\\n\".join([\"{}\\t{}\".format( state.name, str(belief) ) for state, belief in zip( network.states, beliefs )]))"
   ]
  },
  {
   "cell_type": "raw",
   "metadata": {},
   "source": [
    "{\n",
    "    \"class\" :\"Distribution\",\n",
    "    \"dtype\" :\"str\",\n",
    "    \"name\" :\"DiscreteDistribution\",\n",
    "    \"parameters\" :[\n",
    "        {\n",
    "            \"A\" :0.3333333333333333,\n",
    "            \"B\" :0.3333333333333333,\n",
    "            \"C\" :0.3333333333333333\n",
    "        }\n",
    "    ],\n",
    "    \"frozen\" :false\n",
    "}"
   ]
  },
  {
   "cell_type": "code",
   "execution_count": null,
   "metadata": {},
   "outputs": [],
   "source": []
  }
 ],
 "metadata": {
  "kernelspec": {
   "display_name": "Python 3",
   "language": "python",
   "name": "python3"
  },
  "language_info": {
   "codemirror_mode": {
    "name": "ipython",
    "version": 3
   },
   "file_extension": ".py",
   "mimetype": "text/x-python",
   "name": "python",
   "nbconvert_exporter": "python",
   "pygments_lexer": "ipython3",
   "version": "3.7.1"
  }
 },
 "nbformat": 4,
 "nbformat_minor": 2
}
