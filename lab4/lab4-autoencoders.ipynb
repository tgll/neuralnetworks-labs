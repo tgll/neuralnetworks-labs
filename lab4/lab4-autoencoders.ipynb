{
 "cells": [
  {
   "cell_type": "markdown",
   "metadata": {},
   "source": [
    "# <p><font color=indianred>&#9658; Artificial Neural Networks and Deep Architectures (DD2437) &#9664;</font></p>\n",
    "<div class=\"alert alert-danger\">\n",
    "\n",
    "Syllabus: https://www.kth.se/student/kurser/kurs/kursplan/DD2437-20191.pdf?lang=en\n",
    "\n",
    "Course page: https://www.kth.se/social/course/DD2437/\n",
    "\n",
    "Teacher page: http://www.csc.kth.se/~paherman/index.htm & https://www.kth.se/profile/paherman\n",
    "\n",
    "\n",
    "\n",
    "# Lab assignment 4\n",
    "## Deep neural network architectures with autoencoders\n",
    "\n",
    "</div>"
   ]
  },
  {
   "cell_type": "markdown",
   "metadata": {},
   "source": [
    "***\n",
    "# <p> &#127746; Instructions </p> \n",
    "#### Aim and objectives\n",
    "After completion of the lab assignment, you should be able to\n",
    "- explain key ideas underlying the learning process of autoencoders\n",
    "- apply basic algorithms for greedy training of autoencoder layers with the use of commonly available deep learning libraries,\n",
    "- design multi-layer neural network architectures based on autoencoder layers for classification problems,\n",
    "- study the functionality (including generative aspects) and test the performance of low-scale deep architectures developed using autoencoders.\n",
    "\n",
    "#### Background\n",
    "see link https://github.com/tgll/\n",
    "(Lab instructions in the same folder)\n",
    "\n",
    "<p><font color=white>emojis https://www.w3schools.com/charsets/ref_emoji.asp</font></p>"
   ]
  },
  {
   "cell_type": "markdown",
   "metadata": {},
   "source": [
    "***\n",
    "# <p> &#127746; Assignment - Part I </p>"
   ]
  },
  {
   "cell_type": "code",
   "execution_count": null,
   "metadata": {},
   "outputs": [],
   "source": [
    "# Importing the librairies"
   ]
  },
  {
   "cell_type": "markdown",
   "metadata": {},
   "source": [
    "## <p> &#127880; 1. Autoencoder for binary-type MNIST images </p>"
   ]
  },
  {
   "cell_type": "code",
   "execution_count": null,
   "metadata": {},
   "outputs": [],
   "source": []
  },
  {
   "cell_type": "markdown",
   "metadata": {},
   "source": [
    "## <p> &#127880; 2. Stacked autoencoders for MNIST digit classification </p>"
   ]
  },
  {
   "cell_type": "code",
   "execution_count": null,
   "metadata": {},
   "outputs": [],
   "source": []
  },
  {
   "cell_type": "markdown",
   "metadata": {},
   "source": [
    "### <p> &#128663; 2.1 Classification with deeper architectures </p>"
   ]
  },
  {
   "cell_type": "code",
   "execution_count": null,
   "metadata": {},
   "outputs": [],
   "source": []
  },
  {
   "cell_type": "markdown",
   "metadata": {},
   "source": [
    "***\n",
    "# <p> &#127746; Conclusions </p>"
   ]
  },
  {
   "cell_type": "code",
   "execution_count": null,
   "metadata": {},
   "outputs": [],
   "source": []
  }
 ],
 "metadata": {
  "kernelspec": {
   "display_name": "Python 3",
   "language": "python",
   "name": "python3"
  },
  "language_info": {
   "codemirror_mode": {
    "name": "ipython",
    "version": 3
   },
   "file_extension": ".py",
   "mimetype": "text/x-python",
   "name": "python",
   "nbconvert_exporter": "python",
   "pygments_lexer": "ipython3",
   "version": "3.7.1"
  }
 },
 "nbformat": 4,
 "nbformat_minor": 2
}
