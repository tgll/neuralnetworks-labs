{
 "cells": [
  {
   "cell_type": "markdown",
   "metadata": {},
   "source": [
    "# <p><font color=dodgerblue>&#9658; Artificial Neural Networks and Deep Architectures (DD2437) &#9664;</font></p>\n",
    "<div class=\"alert alert-info\">\n",
    "\n",
    "Syllabus: https://www.kth.se/student/kurser/kurs/kursplan/DD2437-20191.pdf?lang=en\n",
    "\n",
    "Course page: https://www.kth.se/social/course/DD2437/\n",
    "\n",
    "Teacher page: http://www.csc.kth.se/~paherman/index.htm & https://www.kth.se/profile/paherman\n",
    "\n",
    "\n",
    "\n",
    "# Lab assignment 2\n",
    "## Radial basis functions, competitive learning and self-organisation\n",
    "\n",
    "</div>"
   ]
  },
  {
   "cell_type": "markdown",
   "metadata": {},
   "source": [
    "***\n",
    "# <p> &#128025; Instructions </p> \n",
    "#### Aim and objectives\n",
    "After completion of the lab assignment, you should be able to\n",
    "- know how to build the structure and perform training of an RBF network for either classification or regression purposes\n",
    "- be able to comparatively analyse different methods for initialising the structure and learning the weights in an RBF network\n",
    "- know the concept of vector quantisation and learn how to use it in NN context\n",
    "- be able to recognise and implement different components in the SOM algorithm\n",
    "- be able to discuss the role of the neighbourhood and analyse its effect on the self-organisation in SOMs\n",
    "- know how SOM-networks can be used to fold high-dimensional spaces and cluster data\n",
    "\n",
    "#### Background\n",
    "see link https://github.com/tgll/neuralnets_labs/blob/master/lab2/annda_lab2.pdf <br>\n",
    "(Lab instructions in the same folder)\n",
    "\n",
    "(Radial-basis function networks, Computing the weight matrix, The SOM algorithm)\n",
    "\n",
    "<p><font color=white>emojis https://www.w3schools.com/charsets/ref_emoji.asp</font></p>"
   ]
  },
  {
   "cell_type": "markdown",
   "metadata": {},
   "source": [
    "#### Background preliminary questions (& notes) :\n",
    "\n",
    "- **What is the lower bound for the number of training examples, N?** <br>\n",
    "The number of training examples N must not be lower than the number of hidden units.<br>\n",
    "N max = 62\n",
    "- **What happens with the error if N = n? Why?**<br>\n",
    "N = number of input samples<br>\n",
    "n = number of neurons/nodes/units<br>\n",
    "The system is overdetermined.<br>\n",
    "Something linked to points in an dimensional hyperperspace / subspace\n",
    "The model can only reach points lying in some fixed plane and can never exactly match y_hat if it lies somewhere outside the plane<br>\n",
    "If N = n, the predicted values at the points for which the data values are known will be the known values. The number of input points n should be larger than the number of RBF nodes in the hidden layer\n",
    "- **Under what conditions, if any, does (4) have a solution in this case?**<br>\n",
    "If some of the equations are linear combination of each other\n",
    "- **During training we use an error measure defined over the training examples. Is it good to use this measure when evaluating the performance of the network? Explain!**<br>\n",
    "The NN learns from the input space during the training process, that's why the predicted true values should be good only after few steps and give a good performance which can be evaluated with a validation set."
   ]
  },
  {
   "cell_type": "markdown",
   "metadata": {},
   "source": [
    "***\n",
    "# <p> &#128025; Assignment - Part I </p>"
   ]
  },
  {
   "cell_type": "code",
   "execution_count": 1,
   "metadata": {},
   "outputs": [],
   "source": [
    "# IMPORTING THE LIBRARIES\n",
    "import numpy as np #cool for maths and linear algebra\n",
    "import decimal\n",
    "from scipy import signal\n",
    "import matplotlib.pyplot as plt #cool for plots\n",
    "import seaborn as sns # cool for cool plots\n",
    "\n",
    "import matplotlib.colors as clr # more plots and color\n",
    "from matplotlib.colors import ListedColormap # also more plots and color\n",
    "#%matplotlib inline # interactive cool plots included in notebook"
   ]
  },
  {
   "cell_type": "markdown",
   "metadata": {},
   "source": [
    "## <p> &#128044; 1. Batch mode training using least squares - supervised learning of network weights. </p>\n",
    "\n",
    "\n",
    "In this simple assignment, you should focus on supervised learning of weights of the RBF network built to address a simple regression problem. **Please implement first batch learning from scratch** without using dedicated NN toolboxes. <br>\n",
    "**The two function to approximate are <font color=dodgerblue>sin(2x)</font> and <font color=dodgerblue>square(2x)</font>** (square is a rectangular curve serving as a \"box\" envelope for the sine wave, i.e. it is 1 for arguments where the sin>=0 and -1 otherwise). Note that the input space is R, so **each <font color=dodgerblue>pattern</font>** x1; x2; .... ; xN in (6) **is in fact a scalar**. Begin by creating a column vector containing the points (<font color=dodgerblue>patterns</font>) where you want to evaluate your function. Let's limit the regression to the interval [0; 2pi]. **Sample this interval starting from 0 with the step size of 0.1 and calculate the values of the two functions at the these points to obtain the corresponding training sets.** The testing sets could be generated analogously with sampling starting from <font color=dodgerblue>0.05</font> and the same step size.\n",
    "\n",
    "- Try to <font color=dodgerblue>vary the number of units to get the absolute residual error below 0.1, 0.01 and 0.001</font> in the residual value (absolute residual error is understood as the average absolute difference between the network outputs and the desirable target values). Please discuss the results, <font color=dodgerblue>how many units are needed for the aforementioned error thresholds</font>?\n",
    "\n",
    "- How can you simply transform the output of your RBF network to <font color=dodgerblue>reduce the residual error to 0 for the square(2x) problem</font>? Still, <font color=dodgerblue>how many units</font> do you need? In what type of applications could this transform be particularly useful?\n",
    "<br>\n",
    "<br>\n",
    "\n",
    "**REMINDERS**:\n",
    "<img src=\"img/RBF.png\" width=\"350\" align=\"center\"/> <br>\n",
    "<img src=\"img/XOR-bool.png\" width=\"700\" align=\"left\"/> <img src=\"img/XOR-circuit.png\" width=\"250\" align=\"left\"/>\n",
    "\n",
    "Gaussian function page 2\n",
    "<img src=\"img/gaussian.png\" width=\"350\" align=\"center\"/> <br>\n",
    "\n",
    "\\begin{equation*}\n",
    "\\phi_i(x)=e^{\\frac{-(x-\\mu_i)^2}{2 \\sigma_i^2}}\n",
    "\\end{equation*}"
   ]
  },
  {
   "cell_type": "code",
   "execution_count": 2,
   "metadata": {},
   "outputs": [],
   "source": [
    "# GENERATE DATA\n",
    "# range\n",
    "def data_range(x, y, jump):\n",
    "    x = decimal.Decimal(x) # rounded decimal floating point\n",
    "    while x < y:\n",
    "        yield float(x)\n",
    "        x += decimal.Decimal(jump)\n",
    "\n",
    "# data\n",
    "def generate_data(func, interval, step, plot = False, noise_var = None):\n",
    "    patterns = list(data_range(interval[0],interval[1], str(step)))\n",
    "    f = np.vectorize(func)\n",
    "    output = f(patterns)\n",
    "    #gaussian noise\n",
    "    if noise_var:\n",
    "        noise = np.random.normal(loc = 0, scale = noise_var, size = np.shape(output))\n",
    "        output =np.add(output, noise)\n",
    "    if plot:\n",
    "        plt.plot(patterns, output)\n",
    "        plt.show()\n",
    "    patterns = np.reshape(patterns, (len(patterns),1))\n",
    "    output = np.reshape(output, (len(output),1))\n",
    "    patterns = np.array(patterns)\n",
    "    output = np.array(output)\n",
    "    return patterns, output\n"
   ]
  },
  {
   "cell_type": "code",
   "execution_count": 3,
   "metadata": {},
   "outputs": [],
   "source": [
    "# SINUS 2(x)\n",
    "# train patterns (inputs) and response (outputs)\n",
    "SIN_train_patterns, SIN_train_response = generate_data(lambda x: np.sin(2*x),[0,2*np.pi], 0.1)\n",
    "# test\n",
    "SIN_test_patterns, SIN_test_response = generate_data(lambda x: np.sin(2*x),[0.05,2*np.pi], 0.1)\n",
    "\n",
    "# SQUARE 2(x)\n",
    "# train patterns (inputs) and response (outputs)\n",
    "SQR_train_patterns, SQR_train_response = generate_data(lambda x: signal.square(2*x), [0,2*np.pi], 0.1)\n",
    "# test\n",
    "SQR_test_patterns, SQR_test_response = generate_data(lambda x: signal.square(2*x), [0.05,2*np.pi], 0.1)"
   ]
  },
  {
   "cell_type": "code",
   "execution_count": 4,
   "metadata": {},
   "outputs": [],
   "source": [
    "class RBF():\n",
    "    def __init__(self, mu_list, sigma):\n",
    "        self.weights = None\n",
    "        self.mu = mu_list\n",
    "        self.train_phi = None\n",
    "        self.sigma = sigma\n",
    "        self.trained = False\n",
    "    \n",
    "    def initiate_nodes(mu_list, sigma):\n",
    "        self.mu = mu_list\n",
    "    \n",
    "    # gaussian phi function\n",
    "    # phi(x)=e^(-(x-mu)^2) / (2 * sigma^2) )\n",
    "    def gaussian(self, x, mu, sigma):\n",
    "        return np.exp((-(np.linalg.norm(x-mu))**2)/(2*sigma**2)) \n",
    "    \n",
    "    # gaussian phi iterations\n",
    "    # \\phi_i(x)=e^{\\frac{-(x-\\mu_i)^2}{2 \\sigma_i^2}}\n",
    "    def calculate_phi(self, data):\n",
    "        N = len(data) # 62\n",
    "        n = len(self.mu)\n",
    "        phi = np.zeros((N,n))\n",
    "        for i in range(N):\n",
    "            for j in range(n):\n",
    "                phi[i,j] = self.gaussian(data[i,:], self.mu[j,:], self.sigma)\n",
    "        return phi\n",
    "    \n",
    "    def batch_train(self, data, response):\n",
    "        self.train_phi = self.calculate_phi(data)\n",
    "        phi_transpose = np.transpose(self.train_phi)\n",
    "        self.weights = np.linalg.inv(np.dot(phi_transpose,self.train_phi)).dot(phi_transpose).dot(response)\n",
    "        self.trained = True\n",
    "    \n",
    "    def data_shuffler(self, data, response):\n",
    "        data_dim = np.shape(data)[1]\n",
    "        response_dim = np.shape(response)[1]\n",
    "        shuffler = np.hstack((data, response))\n",
    "        np.random.shuffle(shuffler)\n",
    "        return shuffler[:,0:data_dim], shuffler[:,data_dim:data_dim+response_dim] # will break down with multidimensional data (?)\n",
    "\n",
    "    def sequential_train(self, data, response, epochs, eta):\n",
    "        data, response = self.data_shuffler(data, response)\n",
    "        self.train_phi = self.calculate_phi(data)\n",
    "        self.weights = np.random.randn(len(self.mu),1)\n",
    "        \n",
    "        for epoch in range(epochs):\n",
    "            for data_index in range(len(data)):\n",
    "                inner = response[data_index] - np.dot(self.train_phi[data_index,:],self.weights)\n",
    "                self.weights = np.add(self.weights, np.reshape(eta*inner*np.transpose(self.train_phi[data_index,:]),np.shape(self.weights)))\n",
    "                \n",
    "        \n",
    "    def predict(self,data):\n",
    "        phi = self.calculate_phi(data)\n",
    "        return phi.dot(self.weights)\n",
    "    \n",
    "    def calculate_error(self, data, response):\n",
    "        predictions = self.predict(data)\n",
    "        return np.mean(np.abs(response-predictions))\n",
    "    \n",
    "    # PLOT training and testing results + residual errors\n",
    "    def plottraintest(self, train_data, train_response, test_data, test_response, batch_train = True, **kwargs):\n",
    "            if batch_train:\n",
    "                self.batch_train(train_data, train_response)\n",
    "            else:\n",
    "                self.sequential_train(train_data, train_response, kwargs['epochs'], kwargs['eta'])\n",
    "            train_error = self.calculate_error(train_data, train_response)\n",
    "            test_error = self.calculate_error(test_data, test_response)\n",
    "            if np.shape(self.mu)[1] <= 1:\n",
    "                plt.plot(train_data, RBF1.predict(train_data),'c.', lw=2)\n",
    "                plt.plot(test_data, RBF1.predict(test_data),'b.', lw=2)\n",
    "                plt.legend(['train','test'])\n",
    "                plt.title(\"RBF (training & testing)\")\n",
    "                plt.figtext(.02, .02, \"Training residual error is {}\".format(train_error))\n",
    "                plt.figtext(.02, -.04, \"Testing residual error is {}\".format(test_error))\n",
    "                plt.show()\n",
    "            else:\n",
    "                print(\"Training residual error is {}\".format(train_error))\n",
    "                print(\"Testing residual error is {}\".format(test_error))\n"
   ]
  },
  {
   "cell_type": "markdown",
   "metadata": {},
   "source": [
    "### <p> &#128032; Variation of number of units </p>\n",
    "#### <p> &#127754; SIN(2X) BATCH </p>"
   ]
  },
  {
   "cell_type": "code",
   "execution_count": 5,
   "metadata": {},
   "outputs": [
    {
     "data": {
      "image/png": "[encoded data removed]",
      "text/plain": [
       "<Figure size 432x288 with 1 Axes>"
      ]
     },
     "metadata": {
      "needs_background": "light"
     },
     "output_type": "display_data"
    }
   ],
   "source": [
    "# BATCH sin\n",
    "def even_rbf_center(count):\n",
    "    mu_list = []\n",
    "    for i in range(count):\n",
    "        mu_list.append(i*2*np.pi/(count))\n",
    "    mu_list = np.reshape(np.array(mu_list), (len(mu_list),1))\n",
    "    return mu_list\n",
    "\n",
    "mu_list = even_rbf_center(50)\n",
    "sigma = 0.1\n",
    "RBF1 = RBF(mu_list, sigma)\n",
    "\n",
    "RBF1.plottraintest(SIN_train_patterns, SIN_train_response, SIN_test_patterns, SIN_test_response, epochs = 100)"
   ]
  },
  {
   "cell_type": "markdown",
   "metadata": {},
   "source": [
    "The number of Nodes n should not exceed the number of samples N (N max = 62) in batch mode. <br>\n",
    "Errors:\n",
    "- for n = 15: 0.02596\n",
    "- **for n = 50: 0.00128**\n",
    "- for n = 65: 41442821849.093376"
   ]
  },
  {
   "cell_type": "markdown",
   "metadata": {},
   "source": [
    "#### <p> &#127754; SQUARE(2X) BATCH </p>"
   ]
  },
  {
   "cell_type": "code",
   "execution_count": 6,
   "metadata": {},
   "outputs": [
    {
     "data": {
      "image/png": "[encoded data removed]",
      "text/plain": [
       "<Figure size 432x288 with 1 Axes>"
      ]
     },
     "metadata": {
      "needs_background": "light"
     },
     "output_type": "display_data"
    }
   ],
   "source": [
    "# BATCH sqr\n",
    "mu_list = even_rbf_center(20)\n",
    "sigma = 0.6\n",
    "mu_list = np.reshape(np.array(mu_list), (len(mu_list),1))\n",
    "RBF1 = RBF(mu_list, sigma)\n",
    "\n",
    "RBF1.plottraintest(SQR_train_patterns, SQR_train_response, SQR_test_patterns, SQR_test_response, epochs = 100)"
   ]
  },
  {
   "cell_type": "markdown",
   "metadata": {},
   "source": [
    "Errors:\n",
    "- for n = 10: 0.27856\n",
    "- **for n = 20: 0.17664**\n",
    "- for n = 25: 1.36615"
   ]
  },
  {
   "cell_type": "markdown",
   "metadata": {
    "scrolled": true
   },
   "source": [
    "#### <p> &#127754; SEQENTIAL </p>"
   ]
  },
  {
   "cell_type": "code",
   "execution_count": 7,
   "metadata": {},
   "outputs": [
    {
     "data": {
      "image/png": "[encoded data removed]",
      "text/plain": [
       "<Figure size 432x288 with 1 Axes>"
      ]
     },
     "metadata": {
      "needs_background": "light"
     },
     "output_type": "display_data"
    }
   ],
   "source": [
    "# seq sqr\n",
    "mu_list = even_rbf_center(20)\n",
    "sigma = 0.6\n",
    "mu_list = np.reshape(np.array(mu_list), (len(mu_list),1))\n",
    "RBF1 = RBF(mu_list, sigma)\n",
    "\n",
    "RBF1.plottraintest(SIN_train_patterns, SIN_train_response, SIN_test_patterns, SIN_test_response, batch_train = False, eta=0.3, epochs = 100)"
   ]
  },
  {
   "cell_type": "markdown",
   "metadata": {},
   "source": [
    "Errors:\n",
    "- for n = 5: 0.20178\n",
    "- **for n = 20: 0.01316**\n",
    "- for n = 40: 0.02037\n",
    "- for n = 54: 4.83231e+244"
   ]
  },
  {
   "cell_type": "markdown",
   "metadata": {
    "collapsed": true
   },
   "source": [
    "### <p> &#128032; Minimizing the residual error </p>\n",
    "\n",
    "Having a treshold output out of the hidden nodes equal to 1 for (strictly) positive outputs, and -1 for negative outputs. \n",
    "\n",
    "A minimum of hidden nodes is necessary (like above 5 I would say) otherwise it is not good (not reaching a error value equals to zero)\n",
    "\n",
    "Good technique for classification\n",
    "\n",
    "<font color=white>\n",
    "**old notes** TO UPDATE\n",
    "With 12 units evenly distributed, variance = 0.1, the Absolute residual error was: 0.32240\n",
    "the error did not change significantly with variance 0.3 or 0.01\n",
    "With 20 units evenly distributed, variance = 0.1, the Absolute residual error was: 0.131492\n",
    "Adding a node in the very end of the interval reduced it somewhat to 0.12314\n",
    "30 units: 0.03243\n",
    "40 units: 0.0313 \n",
    "</font>"
   ]
  },
  {
   "cell_type": "markdown",
   "metadata": {},
   "source": [
    "## <p> &#128044; 2. Regression with noise </p>"
   ]
  },
  {
   "cell_type": "code",
   "execution_count": 8,
   "metadata": {},
   "outputs": [],
   "source": [
    "#noise_var = 0.3"
   ]
  },
  {
   "cell_type": "markdown",
   "metadata": {},
   "source": [
    "## <p> &#128044; 3. Competitive learning (CL) to initialise RBF units </p>\n",
    "\n",
    "Now we will take a look at the problem of placing the RBFs in input space. We will use a version of CL for Vector Quantization. A simple algorithm we use here can only adjust the positions of the RBF units without adjusting the width of the units. Therefore you will have to make these adjustment yourselves based on the distribution of data around the cluster centers found with this simple CL algorithm. At each iteration of CL a training vector is randomly selected from the data. The closest RBF unit (usually called the winning unit) is computed, and this unit is updated, in such a way that it gets closer to the training vector. The other units may or may not (depending on the version of CL used) be moved towards it too, depending on distance. This way the units will tend to aggregate in the clusters in the data space. Please, couple the CL-based approach to RBF network initilisation with the aforementioned delta learning for the output weights.\n",
    "\n",
    "- <font color=dodgerblue>Compare the CL-based approach with your earlier RBF network where you manually positioned RBF nodes in the input space.</font> Make this comparison for both <font color=dodgerblue>noise-free</font>  and <font color=dodgerblue>noisy</font>  approximation of sin(2x) and use the number of units corresponding to the best performing architectures found in sections 3.1 and 3.2, respectively. Pay attention to convergence, generalisation performance and the resulting position of nodes.\n",
    "- Introduce a strategy to <font color=dodgerblue>avoid dead units</font>, e.g. by having more than a single winner. Choose an example to demonstrate this effect in comparison with the vanilla version of our simple CL algorithm.\n",
    "- Configure an RBF network with the use of CL for positioning the RBF units to approximate a two-dimensional function, i.e. from R2 to R2. As training examples please use noisy data from <font color=dodgerblue>ballistical experiments</font> where inputs are pairs: <angle, velocity> and the outputs are pairs: <distance, height>. There are <font color=dodgerblue>two datasets available: ballist for training and balltest for testing.</font> First thing to do is to load the data and then train the RBF network to find a mapping between the input and output values. Please be careful with the selection of a suitable number of nodes and their initialisation to avoid dead-unit and overfitting problems. Report your results and observations, ideally with the support of illustrations, and document your analyses (e.g., inspect the position of units in the input space)."
   ]
  },
  {
   "cell_type": "markdown",
   "metadata": {},
   "source": [
    "#### <p> &#128032; Comparaison between manually positioning RBF VS CL-based approach (with nodes noise free VS noisy approx) </p>\n",
    "\n",
    "**A)  CL-based approach**\n",
    "\n",
    "1- noise free"
   ]
  },
  {
   "cell_type": "code",
   "execution_count": null,
   "metadata": {},
   "outputs": [],
   "source": []
  },
  {
   "cell_type": "markdown",
   "metadata": {},
   "source": [
    "2- noisy"
   ]
  },
  {
   "cell_type": "code",
   "execution_count": null,
   "metadata": {},
   "outputs": [],
   "source": []
  },
  {
   "cell_type": "markdown",
   "metadata": {},
   "source": [
    "**B) Manually**\n",
    "\n",
    "1- noise free"
   ]
  },
  {
   "cell_type": "code",
   "execution_count": null,
   "metadata": {},
   "outputs": [],
   "source": []
  },
  {
   "cell_type": "markdown",
   "metadata": {},
   "source": [
    "2- noisy"
   ]
  },
  {
   "cell_type": "code",
   "execution_count": null,
   "metadata": {},
   "outputs": [],
   "source": []
  },
  {
   "cell_type": "markdown",
   "metadata": {},
   "source": [
    "#### <p> &#128032; Avoid dead units </p>"
   ]
  },
  {
   "cell_type": "code",
   "execution_count": null,
   "metadata": {},
   "outputs": [],
   "source": []
  },
  {
   "cell_type": "markdown",
   "metadata": {},
   "source": [
    "#### <p> &#128032; Ballist and balltest </p>"
   ]
  },
  {
   "cell_type": "code",
   "execution_count": 43,
   "metadata": {},
   "outputs": [
    {
     "name": "stdout",
     "output_type": "stream",
     "text": [
      "C:\\Users\\tgill\\Documents\\2.COURS\\5.HCID\\M2_StockholmKTH\\ML\\LABS\\ArtificialNeuralNet_labs\\lab2\\data_lab2\n"
     ]
    }
   ],
   "source": [
    "#cd data_lab2"
   ]
  },
  {
   "cell_type": "code",
   "execution_count": 44,
   "metadata": {},
   "outputs": [],
   "source": [
    "#Read data\n",
    "ballistic_data = np.loadtxt(open(\"data_lab2/ballist.dat\", \"rb\"), delimiter=\" \", skiprows=0)\n",
    "balltest_data = np.loadtxt(open(\"data_lab2/balltest.dat\", \"rb\"), delimiter=\" \", skiprows=0)\n",
    "\n",
    "train_ballistic = ballistic_data[:,0:2]\n",
    "train_ballistic_response = ballistic_data[:,2:4]\n",
    "test_ballistic = balltest_data[:,0:2]\n",
    "test_ballistic_response = balltest_data[:,2:4]"
   ]
  },
  {
   "cell_type": "code",
   "execution_count": 47,
   "metadata": {},
   "outputs": [],
   "source": [
    "# Use competitive learning\n"
   ]
  },
  {
   "cell_type": "markdown",
   "metadata": {},
   "source": [
    "***\n",
    "# <p> &#128025; Assignment - Part II </p>"
   ]
  },
  {
   "cell_type": "markdown",
   "metadata": {},
   "source": [
    "**REMINDERS**:\n",
    "SOM (Self Organising Maps) are a unsupervised neural network technique.\n",
    "\n",
    "Based on K-means (exemple du kebab ?)\n",
    "\n",
    "\n",
    "Papers: <br>\n",
    "[Kohonen, T. (1990). The self-organizing map. Proceedings of the IEEE, 78(9), 1464-1480.](https://sci2s.ugr.es/keel/pdf/algorithm/articulo/1990-Kohonen-PIEEE.pdf)<br>\n",
    "[Kohonen, Teuvo. \"Exploration of very large databases by self-organizing maps.\" In Proceedings of International Conference on Neural Networks (ICNN'97), vol. 1, pp. PL1-PL6. IEEE, 1997.](http://citeseerx.ist.psu.edu/viewdoc/download?doi=10.1.1.115.3247&rep=rep1&type=pdf)<br>\n",
    "[Kohonen's Self Organizing Feature Maps website](http://www.ai-junkie.com/ann/som/som1.html)\n",
    "\n",
    "How they work:\n",
    "\n",
    "\n",
    "Important to remember:\n",
    "- SOMs retain typology of the input set\n",
    "- SOMs reveal correlations that are not easy to identify\n",
    "- SOMs classify data without supervision\n",
    "- No target vector -> no backpropagation\n",
    "- No lateral connections between output nodes"
   ]
  },
  {
   "cell_type": "markdown",
   "metadata": {},
   "source": [
    "**INSTRUCTIONS**:\n",
    "\n",
    "The SOM algorithm can be used to assign a natural order to objects characterized only by a large number of attributes. This is done by letting the SOM algorithm create a topological mapping from the high-dimensional attribute space to a one-dimensional output space.<br>\n",
    "\n",
    "<font color=white>xxx</font> As sample data, <font color=dodgerblue>please use a simple **database** of 32 animal species where each animal is characterized by 84 binary attributes.  The data is in the file **animals.dat**. This file defines the 32 * 84 matrix props where each row contains the attributes of one animal.</font> The data are organised in row-by-row manner. There is also a file <font color=dodgerblue>**animalnames.dat** with the names of the animals in the same order.</font> This vector should only be used to <font color=dodgerblue>print out the final ordering</font> in a more readable format. These 84 values serve as input and 100 nodes arranged in a one-dimensional topology, i.e. in a linear sequence, constitute the output.<br>\n",
    "\n",
    "<font color=white>xxx</font> Train the SOM network by showing the attribute vector of one animal at a time. The SOM algorithm should now be able to <font color=dodgerblue>create a mapping onto the 100 output nodes such that similar animals tend to be **close** while different animals tend to be **further away**</font> along the sequence of nodes. In order to get this one-dimensional topology, the <font color=dodgerblue>network has to be trained using a one-dimensional neighbourhood</font>.<br>\n",
    "\n",
    "<font color=white>xxx</font> In particular, your task is to <font color=dodgerblue>write the **core algorithm**. Use a weight matrix of size 100 * 84 initialized with **random numbers between zero and one**. Use an outer loop to train the network for about **20 epochs**, and an inner loop which loops through the 32 animals, one at a time</font>. For each animal you will have to pick out the corresponding row from the props matrix. Then find the row of the weight matrix with the shortest distance to this attribute vector (p). Note that you cannot use a scalar product since the attribute vectors are not normalized. Therefore you have to <font color=dodgerblue>take the difference between the two vectors and calculate the length of this difference vector</font>. Once you have the index to the winning node, it is time to update the weights. Update the weights so that they come a bit closer to the input pattern. A suitable step size is 0:2. Note that <font color=dodgerblue>only weights to the winning node and its neighbours should be updated</font>. The neighbours are in this case the nodes with an index close to that of the winning one. You should <font color=dodgerblue>start with a large neighbourhood and gradually make it smaller</font>. Make the size of the neighbourhood depend on the epoch loop variable so that you start with a neighbourhood of about 50 and end up close to one or zero. Finally, you have to <font color=dodgerblue>print out the result, i.e. the animals in a natural order</font>. Do this by looping through all animals once more, again calculating the index of the winning output node. Save these indices in a 32 element vector pos. By sorting this vector we will get the animals in the desired order. Check the resulting order. <font color=dodgerblue>Does it make sense?</font> If everything works, animals next to each other in the listing should always have some similarity between them. Insects should typically be grouped together, separate from the different cats, for example.\n",
    "\n"
   ]
  },
  {
   "cell_type": "markdown",
   "metadata": {},
   "source": [
    "## <p> &#128044; 1. Topological Ordering of Animal Species </p>"
   ]
  },
  {
   "cell_type": "code",
   "execution_count": 25,
   "metadata": {},
   "outputs": [
    {
     "name": "stdout",
     "output_type": "stream",
     "text": [
      "[WinError 2] Le fichier spécifié est introuvable: 'data_lab2'\n",
      "C:\\Users\\tgill\\Documents\\2.COURS\\5.HCID\\M2_StockholmKTH\\ML\\LABS\\ArtificialNeuralNet_labs\\lab2\\data_lab2\n"
     ]
    }
   ],
   "source": [
    "#cd data_lab2"
   ]
  },
  {
   "cell_type": "code",
   "execution_count": 26,
   "metadata": {},
   "outputs": [
    {
     "data": {
      "text/plain": [
       "[\"'antelop'\\t\\n\",\n",
       " \"'ape'\\t\\n\",\n",
       " \"'bat'\\t\\n\",\n",
       " \"'bear'\\t\\n\",\n",
       " \"'beetle'\\t\\n\",\n",
       " \"'butterfly'\\t\\n\",\n",
       " \"'camel'\\t\\n\",\n",
       " \"'cat'\\t\\n\",\n",
       " \"'crocodile'\\t\\n\",\n",
       " \"'dog'\\t\\n\",\n",
       " \"'dragonfly'\\t\\n\",\n",
       " \"'duck'\\t\\n\",\n",
       " \"'elephant'\\t\\n\",\n",
       " \"'frog'\\t\\n\",\n",
       " \"'giraffe'\\t\\n\",\n",
       " \"'grasshopper'\\t\\n\",\n",
       " \"'horse'\\n\",\n",
       " \"'housefly'\\n\",\n",
       " \"'hyena'\\t\\n\",\n",
       " \"'kangaroo'\\t\\n\",\n",
       " \"'lion'\\t\\n\",\n",
       " \"'moskito'\\t\\n\",\n",
       " \"'ostrich'\\t\\n\",\n",
       " \"'pelican'\\t\\n\",\n",
       " \"'penguin'\\t\\n\",\n",
       " \"'pig'\\t\\n\",\n",
       " \"'rabbit'\\t\\n\",\n",
       " \"'rat'\\t\\n\",\n",
       " \"'seaturtle'\\t\\n\",\n",
       " \"'skunk'\\t\\n\",\n",
       " \"'spider'\\t\\n\",\n",
       " \"'walrus'\"]"
      ]
     },
     "execution_count": 26,
     "metadata": {},
     "output_type": "execute_result"
    }
   ],
   "source": [
    "# Read and print animal names\n",
    "w = np.random.rand(100,84)\n",
    "w.shape\n",
    "animals = np.genfromtxt('data_lab2/animals.dat',delimiter =',')\n",
    "len(animals)\n",
    "\n",
    "f = open('data_lab2/animalnames.txt', \"r\")\n",
    "animal_names = f.readlines()\n",
    "f.close()\n",
    "\n",
    "w = np.random.uniform(0,1,(100,84))\n",
    "x = animals.reshape((32,84))\n",
    "x.shape[1]\n",
    "\n",
    "animal_names"
   ]
  },
  {
   "cell_type": "code",
   "execution_count": 20,
   "metadata": {},
   "outputs": [],
   "source": [
    "def SOM(x, epochs, w):\n",
    "  \n",
    "  # random matrix  \n",
    "  n_samples = x.shape[0]\n",
    "  n_features = x.shape[1]\n",
    "  n_nodes = w.shape[0]\n",
    "  distance = np.zeros(n_nodes)\n",
    "  \n",
    "  for it in range (epochs):\n",
    "    N_neighbours = int(50*(1-it/epochs))\n",
    "    for i in range(n_samples):\n",
    "      # compute minimum node\n",
    "      for j in range(n_nodes):\n",
    "        d = np.linalg.norm(x[i,:]-w[j,:])\n",
    "        distance[j] = d\n",
    "      winner = np.argmin(distance)\n",
    "    \n",
    "      # compute new boundary\n",
    "      min_boundary = max(0,winner - N_neighbours)\n",
    "      max_boundary = min(100, winner + N_neighbours)\n",
    "    \n",
    "      # update weights\n",
    "      for j in range(min_boundary, max_boundary):\n",
    "        w[j] = w[j] + 0.2*(x[i]-w[j])\n",
    "        \n",
    "  return w\n",
    "\n",
    "\n",
    "def SOM_test (x,w):\n",
    "  \n",
    "  n = x.shape[0]\n",
    "  indices = []\n",
    "  n_samples = x.shape[0]\n",
    "  n_features = x.shape[1]\n",
    "  n_nodes = w.shape[0]\n",
    "  distance = np.zeros(n_nodes)\n",
    "  \n",
    "  for i in range(n_samples):\n",
    "      #Compute the minimum node\n",
    "    for j in range(n_nodes):\n",
    "        d = np.linalg.norm(x[i,:]-w[j,:])\n",
    "        distance[j] = d\n",
    "    winner = np.argmin(distance)\n",
    "    indices.append(winner)\n",
    "    \n",
    "  return np.array(indices)"
   ]
  },
  {
   "cell_type": "code",
   "execution_count": 22,
   "metadata": {},
   "outputs": [
    {
     "data": {
      "text/plain": [
       "array([[1.70793905e-07, 1.73306415e-53, 9.07008385e-02, ...,\n",
       "        5.37215874e-54, 4.46484598e-50, 6.71244836e-03],\n",
       "       [1.70793905e-07, 5.98509288e-54, 9.07008385e-02, ...,\n",
       "        9.31890790e-56, 1.83309913e-50, 6.71244836e-03],\n",
       "       [6.99571834e-08, 1.73804987e-55, 1.12894599e-01, ...,\n",
       "        1.06577709e-55, 1.32383808e-51, 6.47219608e-03],\n",
       "       ...,\n",
       "       [1.86973754e-25, 1.00000000e+00, 9.75370781e-26, ...,\n",
       "        3.64607931e-03, 9.96353921e-01, 6.48217350e-02],\n",
       "       [5.70635915e-25, 1.00000000e+00, 3.48237984e-25, ...,\n",
       "        3.64607931e-03, 9.96353921e-01, 6.48217350e-02],\n",
       "       [3.27337122e-25, 1.00000000e+00, 4.58531322e-25, ...,\n",
       "        3.64607931e-03, 9.96353921e-01, 6.48217350e-02]])"
      ]
     },
     "execution_count": 22,
     "metadata": {},
     "output_type": "execute_result"
    }
   ],
   "source": [
    "w = SOM(x,20,w)\n",
    "w"
   ]
  },
  {
   "cell_type": "code",
   "execution_count": 23,
   "metadata": {},
   "outputs": [
    {
     "data": {
      "text/plain": [
       "array([28,  0, 18,  2, 98, 91, 32,  9, 51,  6, 94, 68, 18, 56, 31, 98, 40,\n",
       "       86,  2, 22, 10, 89, 65, 71, 61, 34, 25, 15, 47,  0, 79, 13],\n",
       "      dtype=int64)"
      ]
     },
     "execution_count": 23,
     "metadata": {},
     "output_type": "execute_result"
    }
   ],
   "source": [
    "res = SOM_test (x,w)\n",
    "res"
   ]
  },
  {
   "cell_type": "code",
   "execution_count": 24,
   "metadata": {},
   "outputs": [
    {
     "data": {
      "text/plain": [
       "array([\"'ape'\\t\\n\", \"'skunk'\\t\\n\", \"'bear'\\t\\n\", \"'hyena'\\t\\n\",\n",
       "       \"'dog'\\t\\n\", \"'cat'\\t\\n\", \"'lion'\\t\\n\", \"'walrus'\", \"'rat'\\t\\n\",\n",
       "       \"'bat'\\t\\n\", \"'elephant'\\t\\n\", \"'kangaroo'\\t\\n\", \"'rabbit'\\t\\n\",\n",
       "       \"'antelop'\\t\\n\", \"'giraffe'\\t\\n\", \"'camel'\\t\\n\", \"'pig'\\t\\n\",\n",
       "       \"'horse'\\n\", \"'seaturtle'\\t\\n\", \"'crocodile'\\t\\n\", \"'frog'\\t\\n\",\n",
       "       \"'penguin'\\t\\n\", \"'ostrich'\\t\\n\", \"'duck'\\t\\n\", \"'pelican'\\t\\n\",\n",
       "       \"'spider'\\t\\n\", \"'housefly'\\n\", \"'moskito'\\t\\n\", \"'butterfly'\\t\\n\",\n",
       "       \"'dragonfly'\\t\\n\", \"'beetle'\\t\\n\", \"'grasshopper'\\t\\n\"],\n",
       "      dtype='<U15')"
      ]
     },
     "execution_count": 24,
     "metadata": {},
     "output_type": "execute_result"
    }
   ],
   "source": [
    "Z = [x for _,x in sorted(zip(res,animal_names))]\n",
    "np.transpose(Z)"
   ]
  },
  {
   "cell_type": "code",
   "execution_count": null,
   "metadata": {},
   "outputs": [],
   "source": []
  },
  {
   "cell_type": "markdown",
   "metadata": {},
   "source": [
    "## <p> &#128044; 2. Cyclic Tour </p>\n",
    "\n",
    "In the previous example, the SOM algorithm in effect positioned a one-dimensional curve in the 84-dimensional input space so that it passed close to the places where the training examples were located. Now the same technique can be used to layout a curve in a two-dimensional plane so that it passes a set of points. In fact, this can be interpreted as a variant of the travelling salesman problem. The training points correspond to the cities and the curve corresponds to the tour. SOM algorithm should be able to find a fairly short route which passes all cities.\n",
    "\n",
    "The actual algorithm is very similar to what you implemented in the previons task. In fact, you might be able to reuse much of the code. The main differences are:\n",
    "- The input space has two dimensions instead of 84. The output grid should have 10 nodes, corresponding to the ten cities used in this example.\n",
    "- The neighbourhood should be circular since we are looking for a circular tour. When calculating the neighbours you have to make sure that the first and the last output node are treated as next neighbours.\n",
    "- The size of the neighbourhood must be smaller, corresponding to the smaller number of output nodes. It is reasonable to start with a neighbourhood size of 2 and then change it to 1 and finally zero.\n",
    "- When presenting the result, it is better to plot the suggested tour graphically than to sort the cities.\n",
    "\n",
    "The location of the ten cities is defined in the file cities.dat which defines the 10 * 2 matrix city. Each row contains the coordinates of one city (value between zero and one)."
   ]
  },
  {
   "cell_type": "code",
   "execution_count": null,
   "metadata": {},
   "outputs": [],
   "source": []
  },
  {
   "cell_type": "markdown",
   "metadata": {},
   "source": [
    "## <p> &#128044; 3. Data Clustering: Votes of MPs </p>\n",
    "\n",
    "<font color=dodgerblue>The file votes.dat contains data about how all 349 members of the Swedish parliament did vote in the 31 first votes during 2004-2005</font>. There are also three additional files mpparty.dat, mpsex.dat and mpdistrict.dat with information about the party, gender and district of each member of parliament (MP). Finally, there is a file mpnames.txt with the names of the MPs. <font color=dodgerblue>Your task is to use the SOM algorithm to position all MPs on a 10 * 10 grid according to their votes</font>.\n",
    "\n",
    "By looking at where the different parties end up in the map you should be able to see if votes of the MPs actually reflect the traditional left-right scale, and if there is a second dimension as well. You should be able to see which parties are far apart and which are close. By looking at the distribution of female and male MPs you could get some insight into whether MPs tend to vote differently depending on their gender. You can also see if there is a tendency for MPs from different districts to vote\n",
    "systematically different.\n",
    "\n",
    "The file votes.dat defines a 349 * 31 matrix votes. Data are organised in row-by-row manner. <font color=dodgerblue>Each one of 349 rows corresponds to a specific MP and each one of 31 columns to a specific vote. The elements are zero for a no-vote and one for a yes-vote. Missing votes (abstrained or non-present) are represented as 0:5.</font>\n",
    "\n",
    "<font color=dodgerblue>You should use the SOM algorithm to find a topological mapping from the 31-dimensional input space to a 10 * 10 output grid. The network should be trained with each MPs votes as training data</font>. If all works well, voting patterns that are similar will end up close to each other in the 10 * 10 map. Please display the results with respect to different attributes (i.e. party, gender, district) and describe the results, provide your interpretation."
   ]
  },
  {
   "cell_type": "code",
   "execution_count": 12,
   "metadata": {},
   "outputs": [],
   "source": [
    "#cd data_lab2"
   ]
  },
  {
   "cell_type": "code",
   "execution_count": 16,
   "metadata": {},
   "outputs": [
    {
     "name": "stdout",
     "output_type": "stream",
     "text": [
      "Number of members of the Swedish parliament: 349\n"
     ]
    }
   ],
   "source": [
    "# load data\n",
    "votes = np.loadtxt('data_lab2/votes.dat', delimiter = ',', dtype = float)\n",
    "mpnames = np.genfromtxt('data_lab2/mpnames.txt', delimiter ='\\n', dtype = str)\n",
    "mpsex  = np.genfromtxt('data_lab2/mpsex.dat', delimiter =',', dtype = float)\n",
    "mpdistrict  = np.genfromtxt('data_lab2/mpdistrict.dat', delimiter =',', dtype = float)\n",
    "mpparty = np.genfromtxt('data_lab2/mpparty.dat', delimiter =',', dtype = float)\n",
    "\n",
    "votes = np.reshape(votes,(349,31))\n",
    "votes_labels = list(range(len(votes)))\n",
    "\n",
    "print(\"Number of members of the Swedish parliament:\", len(mpsex))"
   ]
  },
  {
   "cell_type": "code",
   "execution_count": null,
   "metadata": {},
   "outputs": [],
   "source": [
    "# SOM (in file lab2-RBF-old but to update)"
   ]
  },
  {
   "cell_type": "markdown",
   "metadata": {},
   "source": [
    "***\n",
    "# <p> &#128025; Conclusions </p>"
   ]
  },
  {
   "cell_type": "code",
   "execution_count": null,
   "metadata": {},
   "outputs": [],
   "source": []
  }
 ],
 "metadata": {
  "kernelspec": {
   "display_name": "Python 3",
   "language": "python",
   "name": "python3"
  },
  "language_info": {
   "codemirror_mode": {
    "name": "ipython",
    "version": 3
   },
   "file_extension": ".py",
   "mimetype": "text/x-python",
   "name": "python",
   "nbconvert_exporter": "python",
   "pygments_lexer": "ipython3",
   "version": "3.7.1"
  }
 },
 "nbformat": 4,
 "nbformat_minor": 2
}
